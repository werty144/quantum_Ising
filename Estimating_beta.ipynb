{
 "cells": [
  {
   "cell_type": "code",
   "execution_count": 3,
   "metadata": {},
   "outputs": [
    {
     "name": "stdout",
     "output_type": "stream",
     "text": [
      "The autoreload extension is already loaded. To reload it, use:\n",
      "  %reload_ext autoreload\n"
     ]
    }
   ],
   "source": [
    "import numpy as np\n",
    "import utils\n",
    "import qiskit\n",
    "import matplotlib.pyplot as plt\n",
    "import pandas as pd\n",
    "import dimod\n",
    "from dwave.system import DWaveSampler\n",
    "from dwave.system import EmbeddingComposite\n",
    "%load_ext autoreload\n",
    "%autoreload 2"
   ]
  },
  {
   "cell_type": "code",
   "execution_count": 13,
   "metadata": {},
   "outputs": [
    {
     "name": "stderr",
     "output_type": "stream",
     "text": [
      "/home/user/.local/lib/python3.6/site-packages/qiskit/providers/ibmq/ibmqfactory.py:192: UserWarning: Timestamps in IBMQ backend properties, jobs, and job results are all now in local time instead of UTC.\n",
      "  warnings.warn('Timestamps in IBMQ backend properties, jobs, and job results '\n"
     ]
    }
   ],
   "source": [
    "provider = qiskit.IBMQ.load_account()"
   ]
  },
  {
   "cell_type": "markdown",
   "metadata": {},
   "source": [
    "### Testing beta estimation function"
   ]
  },
  {
   "cell_type": "code",
   "execution_count": 44,
   "metadata": {},
   "outputs": [],
   "source": [
    "def test_beta_estimation(qubits_n, betas):\n",
    "    backend_sim = provider.get_backend('ibmq_qasm_simulator')\n",
    "    for beta in betas:\n",
    "        linear_interactions = {(i, i + 1): 1 for i in range(qubits_n - 1)}\n",
    "        linear_circ = utils.linear_circuit(qubits_n, linear_interactions, beta=beta)\n",
    "        linear_circ.measure_all()\n",
    "        \n",
    "        job_sim = qiskit.execute(linear_circ, backend_sim, shots=8192)\n",
    "        sim_result = job_sim.result().get_counts()\n",
    "        \n",
    "        print(f'Real beta: {beta}. Estimation: {utils.estimate_beta(sim_result, linear_interactions)}')"
   ]
  },
  {
   "cell_type": "code",
   "execution_count": 42,
   "metadata": {},
   "outputs": [
    {
     "name": "stdout",
     "output_type": "stream",
     "text": [
      "Real beta: 0.01. Estimation: 0.06919862198472605\n",
      "Real beta: 0.05. Estimation: -0.013488140055374109\n",
      "Real beta: 0.1. Estimation: 0.099451099552261\n",
      "Real beta: 0.5. Estimation: 0.21324308555587015\n",
      "Real beta: 1. Estimation: 0.4690982441092791\n",
      "Real beta: 5. Estimation: 3.6092105939121466\n"
     ]
    }
   ],
   "source": [
    "test_beta_estimation(15, [0.01, 0.05, 0.1, 0.5, 1, 5])"
   ]
  },
  {
   "cell_type": "code",
   "execution_count": 45,
   "metadata": {},
   "outputs": [
    {
     "name": "stdout",
     "output_type": "stream",
     "text": [
      "Real beta: 0.01. Estimation: 0.003493241298819949\n",
      "Real beta: 0.05. Estimation: 0.05688275615594207\n",
      "Real beta: 0.1. Estimation: 0.10176704684774522\n",
      "Real beta: 0.5. Estimation: 0.4865860442150862\n",
      "Real beta: 1. Estimation: 0.7994663165606339\n",
      "Real beta: 5. Estimation: 4.158760998143585\n"
     ]
    }
   ],
   "source": [
    "test_beta_estimation(5, [0.01, 0.05, 0.1, 0.5, 1, 5])"
   ]
  },
  {
   "cell_type": "markdown",
   "metadata": {},
   "source": [
    "### D-Wave beta on linear Ising models"
   ]
  },
  {
   "cell_type": "code",
   "execution_count": 53,
   "metadata": {},
   "outputs": [],
   "source": [
    "def obtain_measurements_linear(qubit_ns):\n",
    "    sampler = DWaveSampler() \n",
    "    embedding_sampler = EmbeddingComposite(sampler)\n",
    "    for n in qubit_ns:\n",
    "        bqm = dimod.BinaryQuadraticModel({i: 0 for i in range(n)},\n",
    "                                 {(i, i + 1): -1 for i in range(n - 1)},\n",
    "                                  0,\n",
    "                                  dimod.Vartype.SPIN)\n",
    "        sampleset = embedding_sampler.sample(bqm, num_reads=8192)\n",
    "        d_wave_result = {}\n",
    "        for (obs, _, oc, _) in sampleset.record:\n",
    "            d_wave_result[utils.string01_from_spins(obs)] = oc\n",
    "        beta = utils.estimate_beta(d_wave_result, {(i, i + 1): 1 for i in range(n - 1)})\n",
    "        print(f'Chain length: {n}. Beta: {beta}')"
   ]
  },
  {
   "cell_type": "code",
   "execution_count": 54,
   "metadata": {},
   "outputs": [
    {
     "name": "stdout",
     "output_type": "stream",
     "text": [
      "Chain length: 5. Beta: 1.977586505943844\n",
      "Chain length: 15. Beta: 1.3898600414818656\n",
      "Chain length: 50. Beta: 0.8296572539105571\n",
      "Chain length: 100. Beta: 0.5514298528880175\n",
      "Chain length: 200. Beta: 0.32978978182652796\n",
      "Chain length: 500. Beta: -0.030517008018558573\n",
      "Chain length: 1000. Beta: 0.03713288467285423\n",
      "Chain length: 1500. Beta: -2.0185873175002847e-17\n",
      "Chain length: 2048. Beta: -0.015518220460297272\n"
     ]
    }
   ],
   "source": [
    "obtain_measurements_linear([5, 15, 50, 100, 200, 500, 1000, 1500, 2048])"
   ]
  },
  {
   "cell_type": "markdown",
   "metadata": {},
   "source": [
    "### D-Wave beta on cyclic Ising models"
   ]
  },
  {
   "cell_type": "code",
   "execution_count": 56,
   "metadata": {},
   "outputs": [],
   "source": [
    "def obtain_measurements_cyclic(qubit_ns):\n",
    "    sampler = DWaveSampler() \n",
    "    embedding_sampler = EmbeddingComposite(sampler)\n",
    "    for n in qubit_ns:\n",
    "        bqm = dimod.BinaryQuadraticModel({i: 0 for i in range(n)},\n",
    "                                 {(i, (i + 1) % n): -1 for i in range(n)},\n",
    "                                  0,\n",
    "                                  dimod.Vartype.SPIN)\n",
    "        sampleset = embedding_sampler.sample(bqm, num_reads=8192)\n",
    "        d_wave_result = {}\n",
    "        for (obs, _, oc, _) in sampleset.record:\n",
    "            d_wave_result[utils.string01_from_spins(obs)] = oc\n",
    "        beta = utils.estimate_beta(d_wave_result, {(i, (i + 1) % n): 1 for i in range(n)})\n",
    "        print(f'Cycle length: {n}. Beta: {beta}')"
   ]
  },
  {
   "cell_type": "code",
   "execution_count": 57,
   "metadata": {},
   "outputs": [
    {
     "name": "stdout",
     "output_type": "stream",
     "text": [
      "Cycle length: 5. Beta: 2.0793804990717923\n",
      "Cycle length: 15. Beta: 0.9605498060117768\n",
      "Cycle length: 50. Beta: 0.5376321965175268\n",
      "Cycle length: 100. Beta: 0.3884512903877117\n",
      "Cycle length: 200. Beta: 0.04332169878499658\n",
      "Cycle length: 500. Beta: 0.03095072908527117\n",
      "Cycle length: 1000. Beta: -0.010830424696249147\n",
      "Cycle length: 1500. Beta: 0.024968461106093406\n",
      "Cycle length: 2048. Beta: -0.007220283130832748\n"
     ]
    }
   ],
   "source": [
    "obtain_measurements_cyclic([5, 15, 50, 100, 200, 500, 1000, 1500, 2048])"
   ]
  },
  {
   "cell_type": "markdown",
   "metadata": {},
   "source": [
    "### D-Wave beta on sqaure lattice Ising models"
   ]
  },
  {
   "cell_type": "code",
   "execution_count": 68,
   "metadata": {},
   "outputs": [],
   "source": [
    "def make_square_lattice_interactions(n):\n",
    "    def closest_factorization(n):\n",
    "        h, w = None, None\n",
    "        for d in range(1, int(n**(1/2)) + 1):\n",
    "            if n % d == 0:\n",
    "                h = d\n",
    "                w = n // d\n",
    "        return h, w\n",
    "    \n",
    "    def qubit_number(i, j, h, w):\n",
    "        return w * i + j\n",
    "    \n",
    "    h, w = closest_factorization(n)\n",
    "    interactions = {}\n",
    "    for i in range(h):\n",
    "        for j in range(w):\n",
    "            cur = qubit_number(i, j, h, w)\n",
    "            right = qubit_number(i, j + 1, h, w)\n",
    "            bottom = qubit_number(i + 1, j, h, w)\n",
    "            if j < w - 1:\n",
    "                interactions[(cur, right)] = -1\n",
    "            if i < h - 1:\n",
    "                interactions[(cur, bottom)] = -1\n",
    "    \n",
    "    return interactions"
   ]
  },
  {
   "cell_type": "code",
   "execution_count": 73,
   "metadata": {},
   "outputs": [],
   "source": [
    "def obtain_measurements_square_lattice(qubit_ns):\n",
    "    sampler = DWaveSampler() \n",
    "    embedding_sampler = EmbeddingComposite(sampler)\n",
    "    for n in qubit_ns:\n",
    "        interactions = make_square_lattice_interactions(n)\n",
    "        \n",
    "        bqm = dimod.BinaryQuadraticModel({i: 0 for i in range(n)},\n",
    "                                  interactions,\n",
    "                                  0,\n",
    "                                  dimod.Vartype.SPIN)\n",
    "        sampleset = embedding_sampler.sample(bqm, num_reads=8192)\n",
    "        d_wave_result = {}\n",
    "        for (obs, _, oc, _) in sampleset.record:\n",
    "            d_wave_result[utils.string01_from_spins(obs)] = oc\n",
    "        beta = utils.estimate_beta(d_wave_result, {key: 1 for key, _ in interactions.items()})\n",
    "        print(f'Lattice size: {n}. Beta: {beta}')"
   ]
  },
  {
   "cell_type": "code",
   "execution_count": 74,
   "metadata": {},
   "outputs": [
    {
     "name": "stdout",
     "output_type": "stream",
     "text": [
      "Lattice size: 6. Beta: 2.2526978173789005\n",
      "Lattice size: 15. Beta: 1.1470844498088042\n",
      "Lattice size: 50. Beta: 0.7552848865561808\n",
      "Lattice size: 100. Beta: 0.5163560254016547\n",
      "Lattice size: 200. Beta: 0.2519313198451169\n",
      "Lattice size: 500. Beta: 0.01109709382493039\n",
      "Lattice size: 1000. Beta: -0.001093840937814759\n",
      "Lattice size: 1500. Beta: -0.009411917616573682\n",
      "Lattice size: 2048. Beta: -0.01542639057964769\n"
     ]
    }
   ],
   "source": [
    "obtain_measurements_square_lattice([6, 15, 50, 100, 200, 500, 1000, 1500, 2048])"
   ]
  },
  {
   "cell_type": "code",
   "execution_count": null,
   "metadata": {},
   "outputs": [],
   "source": []
  }
 ],
 "metadata": {
  "kernelspec": {
   "display_name": "Python 3",
   "language": "python",
   "name": "python3"
  },
  "language_info": {
   "codemirror_mode": {
    "name": "ipython",
    "version": 3
   },
   "file_extension": ".py",
   "mimetype": "text/x-python",
   "name": "python",
   "nbconvert_exporter": "python",
   "pygments_lexer": "ipython3",
   "version": "3.6.9"
  }
 },
 "nbformat": 4,
 "nbformat_minor": 4
}
