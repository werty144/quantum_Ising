{
 "cells": [
  {
   "cell_type": "markdown",
   "metadata": {},
   "source": [
    "# Preparing utils"
   ]
  },
  {
   "cell_type": "code",
   "execution_count": 1,
   "metadata": {},
   "outputs": [],
   "source": [
    "import numpy as np\n",
    "from itertools import product\n",
    "import pandas as pd\n",
    "from IPython.display import display"
   ]
  },
  {
   "cell_type": "code",
   "execution_count": 2,
   "metadata": {},
   "outputs": [],
   "source": [
    "def make_neighbour_indices(n):\n",
    "    return np.dstack((np.arange(n)[:-1], np.arange(n)[1:])).reshape((-1, 2))\n",
    "\n",
    "def H(spins, pair_indices, couplings=None, magnetic_fields=None):\n",
    "    n = len(spins)\n",
    "\n",
    "    if couplings is None:\n",
    "        couplings = np.zeros((n, n))\n",
    "        couplings[pair_indices[:,0], pair_indices[:,1]] = np.ones(len(pair_indices))\n",
    "    \n",
    "    if magnetic_fields is None:\n",
    "        magnetic_fields = np.zeros(n)\n",
    "        \n",
    "    return (- spins.T @ couplings @ spins - magnetic_fields @ spins).item()\n",
    "\n",
    "def Z(n, pair_indices, beta=1, **kwargs):\n",
    "    z = 0\n",
    "    for spins in product([-1, 1], repeat=n):\n",
    "        z += np.exp(-beta * H(np.array(spins), pair_indices, **kwargs))\n",
    "    return z\n",
    "\n",
    "def Pr(spins, pair_indices, beta=1, **kwargs):\n",
    "    return np.exp(-beta * H(spins, pair_indices, **kwargs)) / Z(len(spins), pair_indices, beta=beta, **kwargs)"
   ]
  },
  {
   "cell_type": "code",
   "execution_count": 3,
   "metadata": {},
   "outputs": [
    {
     "data": {
      "text/html": [
       "<div>\n",
       "<style scoped>\n",
       "    .dataframe tbody tr th:only-of-type {\n",
       "        vertical-align: middle;\n",
       "    }\n",
       "\n",
       "    .dataframe tbody tr th {\n",
       "        vertical-align: top;\n",
       "    }\n",
       "\n",
       "    .dataframe thead th {\n",
       "        text-align: right;\n",
       "    }\n",
       "</style>\n",
       "<table border=\"1\" class=\"dataframe\">\n",
       "  <thead>\n",
       "    <tr style=\"text-align: right;\">\n",
       "      <th></th>\n",
       "      <th>s</th>\n",
       "      <th>Pr[s]</th>\n",
       "    </tr>\n",
       "  </thead>\n",
       "  <tbody>\n",
       "    <tr>\n",
       "      <th>0</th>\n",
       "      <td>[-1, -1, -1]</td>\n",
       "      <td>0.387902</td>\n",
       "    </tr>\n",
       "    <tr>\n",
       "      <th>1</th>\n",
       "      <td>[-1, -1, 1]</td>\n",
       "      <td>0.052497</td>\n",
       "    </tr>\n",
       "    <tr>\n",
       "      <th>2</th>\n",
       "      <td>[-1, 1, -1]</td>\n",
       "      <td>0.007105</td>\n",
       "    </tr>\n",
       "    <tr>\n",
       "      <th>3</th>\n",
       "      <td>[-1, 1, 1]</td>\n",
       "      <td>0.052497</td>\n",
       "    </tr>\n",
       "    <tr>\n",
       "      <th>4</th>\n",
       "      <td>[1, -1, -1]</td>\n",
       "      <td>0.052497</td>\n",
       "    </tr>\n",
       "    <tr>\n",
       "      <th>5</th>\n",
       "      <td>[1, -1, 1]</td>\n",
       "      <td>0.007105</td>\n",
       "    </tr>\n",
       "    <tr>\n",
       "      <th>6</th>\n",
       "      <td>[1, 1, -1]</td>\n",
       "      <td>0.052497</td>\n",
       "    </tr>\n",
       "    <tr>\n",
       "      <th>7</th>\n",
       "      <td>[1, 1, 1]</td>\n",
       "      <td>0.387902</td>\n",
       "    </tr>\n",
       "  </tbody>\n",
       "</table>\n",
       "</div>"
      ],
      "text/plain": [
       "              s     Pr[s]\n",
       "0  [-1, -1, -1]  0.387902\n",
       "1   [-1, -1, 1]  0.052497\n",
       "2   [-1, 1, -1]  0.007105\n",
       "3    [-1, 1, 1]  0.052497\n",
       "4   [1, -1, -1]  0.052497\n",
       "5    [1, -1, 1]  0.007105\n",
       "6    [1, 1, -1]  0.052497\n",
       "7     [1, 1, 1]  0.387902"
      ]
     },
     "metadata": {},
     "output_type": "display_data"
    }
   ],
   "source": [
    "def get_probs_distribution(n):\n",
    "    configs, probs = [], []\n",
    "    for spins in product([-1, 1], repeat=n):\n",
    "        configs.append(list(spins))   \n",
    "        probs.append(Pr(np.array(spins), make_neighbour_indices(n)))\n",
    "\n",
    "    display(pd.DataFrame({'s': configs, 'Pr[s]': probs}))\n",
    "\n",
    "get_probs_distribution(3)"
   ]
  },
  {
   "cell_type": "markdown",
   "metadata": {},
   "source": [
    "# IBM Quantum computer processing"
   ]
  },
  {
   "cell_type": "code",
   "execution_count": 4,
   "metadata": {},
   "outputs": [],
   "source": [
    "from qiskit import *\n",
    "%matplotlib inline"
   ]
  },
  {
   "cell_type": "code",
   "execution_count": 10,
   "metadata": {},
   "outputs": [],
   "source": [
    "def S_gate(J=1, beta=1):\n",
    "    x = np.exp(beta/2)\n",
    "    c = 0.5 * Z(2, np.array([[0, 1]]))\n",
    "    mat = 1/c**(1/2) * np.array(\n",
    "    [\n",
    "        [x**J, x**(-J), 0, 0],\n",
    "        [-x**(-J), x**J, 0, 0],\n",
    "        [0, 0, x**(-J), x**J],\n",
    "        [0, 0, -x**J, x**(-J)]\n",
    "    ]\n",
    "    )\n",
    "    s_gate = qiskit.extensions.UnitaryGate(mat, 'S')\n",
    "    return s_gate\n"
   ]
  },
  {
   "cell_type": "code",
   "execution_count": 15,
   "metadata": {},
   "outputs": [
    {
     "data": {
      "image/png": "[encoded data removed]",
      "text/plain": [
       "<Figure size 327.397x264.88 with 1 Axes>"
      ]
     },
     "execution_count": 15,
     "metadata": {},
     "output_type": "execute_result"
    }
   ],
   "source": [
    "qr = QuantumRegister(4, 'q')\n",
    "circ = QuantumCircuit(qr)\n",
    "circ.h(0)\n",
    "circ.append(S_gate(), [qr[1], qr[0]])\n",
    "circ.append(S_gate(), [qr[2], qr[1]])\n",
    "circ.append(S_gate(), [qr[3], qr[2]])\n",
    "\n",
    "circ.draw('mpl')"
   ]
  },
  {
   "cell_type": "code",
   "execution_count": 16,
   "metadata": {},
   "outputs": [],
   "source": [
    "backend = Aer.get_backend('statevector_simulator')\n",
    "job = execute(circ, backend)\n",
    "result = job.result()"
   ]
  },
  {
   "cell_type": "markdown",
   "metadata": {},
   "source": [
    "### Simulated probability distribution"
   ]
  },
  {
   "cell_type": "code",
   "execution_count": 17,
   "metadata": {},
   "outputs": [
    {
     "data": {
      "image/png": "[encoded data removed]",
      "text/plain": [
       "<Figure size 504x360 with 1 Axes>"
      ]
     },
     "execution_count": 17,
     "metadata": {},
     "output_type": "execute_result"
    }
   ],
   "source": [
    "qiskit.visualization.plot_histogram(result.get_counts(circ))"
   ]
  },
  {
   "cell_type": "markdown",
   "metadata": {},
   "source": [
    "### True probability distribution"
   ]
  },
  {
   "cell_type": "code",
   "execution_count": 19,
   "metadata": {},
   "outputs": [
    {
     "data": {
      "text/html": [
       "<div>\n",
       "<style scoped>\n",
       "    .dataframe tbody tr th:only-of-type {\n",
       "        vertical-align: middle;\n",
       "    }\n",
       "\n",
       "    .dataframe tbody tr th {\n",
       "        vertical-align: top;\n",
       "    }\n",
       "\n",
       "    .dataframe thead th {\n",
       "        text-align: right;\n",
       "    }\n",
       "</style>\n",
       "<table border=\"1\" class=\"dataframe\">\n",
       "  <thead>\n",
       "    <tr style=\"text-align: right;\">\n",
       "      <th></th>\n",
       "      <th>s</th>\n",
       "      <th>Pr[s]</th>\n",
       "    </tr>\n",
       "  </thead>\n",
       "  <tbody>\n",
       "    <tr>\n",
       "      <th>0</th>\n",
       "      <td>[-1, -1, -1, -1]</td>\n",
       "      <td>0.341663</td>\n",
       "    </tr>\n",
       "    <tr>\n",
       "      <th>1</th>\n",
       "      <td>[-1, -1, -1, 1]</td>\n",
       "      <td>0.046239</td>\n",
       "    </tr>\n",
       "    <tr>\n",
       "      <th>2</th>\n",
       "      <td>[-1, -1, 1, -1]</td>\n",
       "      <td>0.006258</td>\n",
       "    </tr>\n",
       "    <tr>\n",
       "      <th>3</th>\n",
       "      <td>[-1, -1, 1, 1]</td>\n",
       "      <td>0.046239</td>\n",
       "    </tr>\n",
       "    <tr>\n",
       "      <th>4</th>\n",
       "      <td>[-1, 1, -1, -1]</td>\n",
       "      <td>0.006258</td>\n",
       "    </tr>\n",
       "    <tr>\n",
       "      <th>5</th>\n",
       "      <td>[-1, 1, -1, 1]</td>\n",
       "      <td>0.000847</td>\n",
       "    </tr>\n",
       "    <tr>\n",
       "      <th>6</th>\n",
       "      <td>[-1, 1, 1, -1]</td>\n",
       "      <td>0.006258</td>\n",
       "    </tr>\n",
       "    <tr>\n",
       "      <th>7</th>\n",
       "      <td>[-1, 1, 1, 1]</td>\n",
       "      <td>0.046239</td>\n",
       "    </tr>\n",
       "    <tr>\n",
       "      <th>8</th>\n",
       "      <td>[1, -1, -1, -1]</td>\n",
       "      <td>0.046239</td>\n",
       "    </tr>\n",
       "    <tr>\n",
       "      <th>9</th>\n",
       "      <td>[1, -1, -1, 1]</td>\n",
       "      <td>0.006258</td>\n",
       "    </tr>\n",
       "    <tr>\n",
       "      <th>10</th>\n",
       "      <td>[1, -1, 1, -1]</td>\n",
       "      <td>0.000847</td>\n",
       "    </tr>\n",
       "    <tr>\n",
       "      <th>11</th>\n",
       "      <td>[1, -1, 1, 1]</td>\n",
       "      <td>0.006258</td>\n",
       "    </tr>\n",
       "    <tr>\n",
       "      <th>12</th>\n",
       "      <td>[1, 1, -1, -1]</td>\n",
       "      <td>0.046239</td>\n",
       "    </tr>\n",
       "    <tr>\n",
       "      <th>13</th>\n",
       "      <td>[1, 1, -1, 1]</td>\n",
       "      <td>0.006258</td>\n",
       "    </tr>\n",
       "    <tr>\n",
       "      <th>14</th>\n",
       "      <td>[1, 1, 1, -1]</td>\n",
       "      <td>0.046239</td>\n",
       "    </tr>\n",
       "    <tr>\n",
       "      <th>15</th>\n",
       "      <td>[1, 1, 1, 1]</td>\n",
       "      <td>0.341663</td>\n",
       "    </tr>\n",
       "  </tbody>\n",
       "</table>\n",
       "</div>"
      ],
      "text/plain": [
       "                   s     Pr[s]\n",
       "0   [-1, -1, -1, -1]  0.341663\n",
       "1    [-1, -1, -1, 1]  0.046239\n",
       "2    [-1, -1, 1, -1]  0.006258\n",
       "3     [-1, -1, 1, 1]  0.046239\n",
       "4    [-1, 1, -1, -1]  0.006258\n",
       "5     [-1, 1, -1, 1]  0.000847\n",
       "6     [-1, 1, 1, -1]  0.006258\n",
       "7      [-1, 1, 1, 1]  0.046239\n",
       "8    [1, -1, -1, -1]  0.046239\n",
       "9     [1, -1, -1, 1]  0.006258\n",
       "10    [1, -1, 1, -1]  0.000847\n",
       "11     [1, -1, 1, 1]  0.006258\n",
       "12    [1, 1, -1, -1]  0.046239\n",
       "13     [1, 1, -1, 1]  0.006258\n",
       "14     [1, 1, 1, -1]  0.046239\n",
       "15      [1, 1, 1, 1]  0.341663"
      ]
     },
     "metadata": {},
     "output_type": "display_data"
    }
   ],
   "source": [
    "get_probs_distribution(4)"
   ]
  },
  {
   "cell_type": "markdown",
   "metadata": {},
   "source": [
    "# D-Wave quantum computer processing"
   ]
  },
  {
   "cell_type": "code",
   "execution_count": 45,
   "metadata": {},
   "outputs": [],
   "source": [
    "import dimod"
   ]
  },
  {
   "cell_type": "code",
   "execution_count": 46,
   "metadata": {},
   "outputs": [],
   "source": [
    "n = 4\n",
    "bqm = dimod.BinaryQuadraticModel({i: 0 for i in range(n)},\n",
    "                                 {(i, i + 1): -1 for i in range(n - 1)},\n",
    "                                  0,\n",
    "                                  dimod.Vartype.SPIN)"
   ]
  },
  {
   "cell_type": "markdown",
   "metadata": {},
   "source": [
    "### Configurations distribution"
   ]
  },
  {
   "cell_type": "code",
   "execution_count": 47,
   "metadata": {},
   "outputs": [
    {
     "name": "stdout",
     "output_type": "stream",
     "text": [
      "    0  1  2  3 energy num_oc.\n",
      "0  -1 -1 -1 -1   -3.0       1\n",
      "10 +1 +1 +1 +1   -3.0       1\n",
      "1  +1 -1 -1 -1   -1.0       1\n",
      "2  +1 +1 -1 -1   -1.0       1\n",
      "5  +1 +1 +1 -1   -1.0       1\n",
      "8  -1 -1 +1 +1   -1.0       1\n",
      "11 -1 +1 +1 +1   -1.0       1\n",
      "15 -1 -1 -1 +1   -1.0       1\n",
      "3  -1 +1 -1 -1    1.0       1\n",
      "4  -1 +1 +1 -1    1.0       1\n",
      "7  -1 -1 +1 -1    1.0       1\n",
      "9  +1 -1 +1 +1    1.0       1\n",
      "13 +1 +1 -1 +1    1.0       1\n",
      "14 +1 -1 -1 +1    1.0       1\n",
      "6  +1 -1 +1 -1    3.0       1\n",
      "12 -1 +1 -1 +1    3.0       1\n",
      "['SPIN', 16 rows, 16 samples, 4 variables]\n"
     ]
    }
   ],
   "source": [
    "sampler = dimod.ExactSolver()\n",
    "solution = sampler.sample(bqm)\n",
    "\n",
    "print(solution)"
   ]
  },
  {
   "cell_type": "markdown",
   "metadata": {},
   "source": [
    "### Finding lowest energy solution"
   ]
  },
  {
   "cell_type": "code",
   "execution_count": 48,
   "metadata": {},
   "outputs": [],
   "source": [
    "from dwave.system import DWaveSampler\n",
    "from dwave.system import EmbeddingComposite\n",
    "\n",
    "\n",
    "sampler = DWaveSampler() \n",
    "embedding_sampler = EmbeddingComposite(sampler)\n",
    "sampleset = embedding_sampler.sample(bqm, num_reads=1000)"
   ]
  },
  {
   "cell_type": "code",
   "execution_count": 49,
   "metadata": {},
   "outputs": [
    {
     "name": "stdout",
     "output_type": "stream",
     "text": [
      "   0  1  2  3 energy num_oc. chain_.\n",
      "0 +1 +1 +1 +1   -3.0     689     0.0\n",
      "1 -1 -1 -1 -1   -3.0     310     0.0\n",
      "2 -1 +1 +1 +1   -1.0       1     0.0\n",
      "['SPIN', 3 rows, 1000 samples, 4 variables]\n"
     ]
    }
   ],
   "source": [
    "print(str(sampleset))"
   ]
  },
  {
   "cell_type": "code",
   "execution_count": null,
   "metadata": {},
   "outputs": [],
   "source": []
  }
 ],
 "metadata": {
  "kernelspec": {
   "display_name": "Python 3",
   "language": "python",
   "name": "python3"
  },
  "language_info": {
   "codemirror_mode": {
    "name": "ipython",
    "version": 3
   },
   "file_extension": ".py",
   "mimetype": "text/x-python",
   "name": "python",
   "nbconvert_exporter": "python",
   "pygments_lexer": "ipython3",
   "version": "3.6.9"
  }
 },
 "nbformat": 4,
 "nbformat_minor": 4
}
