{
 "cells": [
  {
   "cell_type": "code",
   "execution_count": 1,
   "metadata": {},
   "outputs": [],
   "source": [
    "import numpy as np"
   ]
  },
  {
   "cell_type": "code",
   "execution_count": 15,
   "metadata": {},
   "outputs": [],
   "source": [
    "def make_neighbour_indices(n):\n",
    "    return np.dstack((np.arange(n)[:-1], np.arange(n)[1:])).reshape((-1, 2))\n",
    "\n",
    "def H(spins, pair_indices, couplings=None, magnetic_fields=None):\n",
    "    n = len(spins)\n",
    "\n",
    "    if couplings is None:\n",
    "        couplings = np.zeros((n, n))\n",
    "        couplings[pair_indices[:,0], pair_indices[:,1]] = np.ones(len(pair_indices))\n",
    "        \n",
    "    print(couplings)\n",
    "    \n",
    "    if magnetic_fields is None:\n",
    "        magnetic_fields = np.zeros(n)\n",
    "        \n",
    "    return - spins.T @ couplings @ spins - magnetic_fields @ spins"
   ]
  },
  {
   "cell_type": "code",
   "execution_count": 16,
   "metadata": {},
   "outputs": [
    {
     "name": "stdout",
     "output_type": "stream",
     "text": [
      "[[0. 1. 0. 0. 0.]\n",
      " [0. 0. 1. 0. 0.]\n",
      " [0. 0. 0. 1. 0.]\n",
      " [0. 0. 0. 0. 1.]\n",
      " [0. 0. 0. 0. 0.]]\n"
     ]
    },
    {
     "data": {
      "text/plain": [
       "array([[2.]])"
      ]
     },
     "execution_count": 16,
     "metadata": {},
     "output_type": "execute_result"
    }
   ],
   "source": [
    "spins = np.array([[1], [-1], [1], [1], [-1]])\n",
    "n = len(spins)\n",
    "H(spins, make_neighbour_indices(n))"
   ]
  },
  {
   "cell_type": "code",
   "execution_count": null,
   "metadata": {},
   "outputs": [],
   "source": []
  }
 ],
 "metadata": {
  "kernelspec": {
   "display_name": "Python 3",
   "language": "python",
   "name": "python3"
  },
  "language_info": {
   "codemirror_mode": {
    "name": "ipython",
    "version": 3
   },
   "file_extension": ".py",
   "mimetype": "text/x-python",
   "name": "python",
   "nbconvert_exporter": "python",
   "pygments_lexer": "ipython3",
   "version": "3.6.9"
  }
 },
 "nbformat": 4,
 "nbformat_minor": 4
}
